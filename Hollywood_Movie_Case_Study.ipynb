{
  "nbformat": 4,
  "nbformat_minor": 0,
  "metadata": {
    "colab": {
      "name": "Hollywood Movie Case Study.ipynb",
      "provenance": [],
      "collapsed_sections": []
    },
    "kernelspec": {
      "name": "python3",
      "display_name": "Python 3"
    }
  },
  "cells": [
    {
      "cell_type": "markdown",
      "metadata": {
        "id": "OZycCGeqDtQZ",
        "colab_type": "text"
      },
      "source": [
        "Mounting the Google Drive"
      ]
    },
    {
      "cell_type": "code",
      "metadata": {
        "id": "g8TKT3RH_NXO",
        "colab_type": "code",
        "outputId": "ae43b0b7-7490-46c6-ef63-f1366659d3b1",
        "colab": {
          "base_uri": "https://localhost:8080/",
          "height": 34
        }
      },
      "source": [
        "#Setting up working directory if working Offline\n",
        "# import os\n",
        "# os.getcwd()\n",
        "# os.chdir(\"C:/Users/harsh/Downloads/\")\n",
        "\n",
        "#Mounting gdrive if working on gdrive\n",
        "from google.colab import drive\n",
        "drive.mount('/content/gdrive')"
      ],
      "execution_count": 0,
      "outputs": [
        {
          "output_type": "stream",
          "text": [
            "Drive already mounted at /content/gdrive; to attempt to forcibly remount, call drive.mount(\"/content/gdrive\", force_remount=True).\n"
          ],
          "name": "stdout"
        }
      ]
    },
    {
      "cell_type": "code",
      "metadata": {
        "id": "NbCFM1IGxBjN",
        "colab_type": "code",
        "outputId": "fae8a82a-209e-485d-aeca-d7e8c5ec11a6",
        "colab": {
          "base_uri": "https://localhost:8080/",
          "height": 85
        }
      },
      "source": [
        "#Loading Libraries\n",
        "import pandas as pd\n",
        "import numpy as np\n",
        "import matplotlib.pyplot as plt\n",
        "import seaborn as sns\n",
        "import nltk\n",
        "from nltk.corpus import stopwords\n",
        "from collections import Counter\n",
        "from nltk.sentiment.vader import SentimentIntensityAnalyzer\n",
        "from sklearn.tree import DecisionTreeClassifier as DT\n",
        "from sklearn.model_selection import cross_val_score\n",
        "from sklearn.model_selection import learning_curve\n",
        "from sklearn.metrics import confusion_matrix\n",
        "from sklearn.metrics import accuracy_score\n",
        "from sklearn.metrics import classification_report\n",
        "nltk.download('vader_lexicon')\n",
        "nltk.download('stopwords')\n",
        "stop_words = set(stopwords.words('english'))"
      ],
      "execution_count": 0,
      "outputs": [
        {
          "output_type": "stream",
          "text": [
            "[nltk_data] Downloading package vader_lexicon to /root/nltk_data...\n",
            "[nltk_data]   Package vader_lexicon is already up-to-date!\n",
            "[nltk_data] Downloading package stopwords to /root/nltk_data...\n",
            "[nltk_data]   Package stopwords is already up-to-date!\n"
          ],
          "name": "stdout"
        }
      ]
    },
    {
      "cell_type": "code",
      "metadata": {
        "id": "o_9GDfSq02Hl",
        "colab_type": "code",
        "outputId": "c226462b-7191-4173-ecca-1d1777383729",
        "colab": {
          "base_uri": "https://localhost:8080/",
          "height": 411
        }
      },
      "source": [
        "#Reading training dataset using pandas read_excel\n",
        "#trainMovieData = pd.read_excel(\"Training sheet.xlsx\")\n",
        "trainMovieData = pd.read_excel(\"/content/gdrive/My Drive/Datasets/Training sheet.xlsx\")\n",
        "trainMovieData.head()"
      ],
      "execution_count": 0,
      "outputs": [
        {
          "output_type": "execute_result",
          "data": {
            "text/html": [
              "<div>\n",
              "<style scoped>\n",
              "    .dataframe tbody tr th:only-of-type {\n",
              "        vertical-align: middle;\n",
              "    }\n",
              "\n",
              "    .dataframe tbody tr th {\n",
              "        vertical-align: top;\n",
              "    }\n",
              "\n",
              "    .dataframe thead th {\n",
              "        text-align: right;\n",
              "    }\n",
              "</style>\n",
              "<table border=\"1\" class=\"dataframe\">\n",
              "  <thead>\n",
              "    <tr style=\"text-align: right;\">\n",
              "      <th></th>\n",
              "      <th>id</th>\n",
              "      <th>name</th>\n",
              "      <th>display_name</th>\n",
              "      <th>production_year</th>\n",
              "      <th>movie_sequel</th>\n",
              "      <th>creative_type</th>\n",
              "      <th>source</th>\n",
              "      <th>production_method</th>\n",
              "      <th>genre</th>\n",
              "      <th>language</th>\n",
              "      <th>board_rating_reason</th>\n",
              "      <th>movie_board_rating_display_name</th>\n",
              "      <th>movie_release_pattern_display_name</th>\n",
              "      <th>total</th>\n",
              "      <th>Category</th>\n",
              "    </tr>\n",
              "  </thead>\n",
              "  <tbody>\n",
              "    <tr>\n",
              "      <th>0</th>\n",
              "      <td>7950115</td>\n",
              "      <td>Avatar</td>\n",
              "      <td>Avatar</td>\n",
              "      <td>2009</td>\n",
              "      <td>0</td>\n",
              "      <td>Science Fiction</td>\n",
              "      <td>Original Screenplay</td>\n",
              "      <td>Animation/Live Action</td>\n",
              "      <td>Action</td>\n",
              "      <td>English</td>\n",
              "      <td>For intense epic battle sequences and warfare,...</td>\n",
              "      <td>PG-13</td>\n",
              "      <td>Wide</td>\n",
              "      <td>2784</td>\n",
              "      <td>9</td>\n",
              "    </tr>\n",
              "    <tr>\n",
              "      <th>1</th>\n",
              "      <td>50950115</td>\n",
              "      <td>Harry Potter and the Deathly Hallows: Part II</td>\n",
              "      <td>Harry Potter and the Deathly Hallows: Part II</td>\n",
              "      <td>2011</td>\n",
              "      <td>1</td>\n",
              "      <td>Fantasy</td>\n",
              "      <td>Based on Fiction Book/Short Story</td>\n",
              "      <td>Animation/Live Action</td>\n",
              "      <td>Adventure</td>\n",
              "      <td>English</td>\n",
              "      <td>for some sequences of intense action violence ...</td>\n",
              "      <td>PG-13</td>\n",
              "      <td>Wide</td>\n",
              "      <td>1328</td>\n",
              "      <td>9</td>\n",
              "    </tr>\n",
              "    <tr>\n",
              "      <th>2</th>\n",
              "      <td>119870115</td>\n",
              "      <td>Transformers 3</td>\n",
              "      <td>Transformers: Dark of the Moon</td>\n",
              "      <td>2011</td>\n",
              "      <td>1</td>\n",
              "      <td>Science Fiction</td>\n",
              "      <td>Based on TV</td>\n",
              "      <td>Animation/Live Action</td>\n",
              "      <td>Action</td>\n",
              "      <td>English</td>\n",
              "      <td>for intense prolonged sequences of sci-fi acti...</td>\n",
              "      <td>PG-13</td>\n",
              "      <td>Wide</td>\n",
              "      <td>1124</td>\n",
              "      <td>9</td>\n",
              "    </tr>\n",
              "    <tr>\n",
              "      <th>3</th>\n",
              "      <td>119590115</td>\n",
              "      <td>Toy Story 3</td>\n",
              "      <td>Toy Story 3</td>\n",
              "      <td>2010</td>\n",
              "      <td>1</td>\n",
              "      <td>Kids Fiction</td>\n",
              "      <td>Original Screenplay</td>\n",
              "      <td>Digital Animation</td>\n",
              "      <td>Adventure</td>\n",
              "      <td>English</td>\n",
              "      <td>General</td>\n",
              "      <td>G</td>\n",
              "      <td>Wide</td>\n",
              "      <td>1064</td>\n",
              "      <td>9</td>\n",
              "    </tr>\n",
              "    <tr>\n",
              "      <th>4</th>\n",
              "      <td>91700115</td>\n",
              "      <td>Pirates of the Caribbean 4</td>\n",
              "      <td>Pirates of the Caribbean: On Stranger Tides</td>\n",
              "      <td>2011</td>\n",
              "      <td>1</td>\n",
              "      <td>Fantasy</td>\n",
              "      <td>Based on Theme Park Ride</td>\n",
              "      <td>Live Action</td>\n",
              "      <td>Adventure</td>\n",
              "      <td>English</td>\n",
              "      <td>for intense sequences of action/adventure viol...</td>\n",
              "      <td>PG-13</td>\n",
              "      <td>Wide</td>\n",
              "      <td>1044</td>\n",
              "      <td>9</td>\n",
              "    </tr>\n",
              "  </tbody>\n",
              "</table>\n",
              "</div>"
            ],
            "text/plain": [
              "          id                                           name  ... total  Category\n",
              "0    7950115                                         Avatar  ...  2784         9\n",
              "1   50950115  Harry Potter and the Deathly Hallows: Part II  ...  1328         9\n",
              "2  119870115                                 Transformers 3  ...  1124         9\n",
              "3  119590115                                    Toy Story 3  ...  1064         9\n",
              "4   91700115                     Pirates of the Caribbean 4  ...  1044         9\n",
              "\n",
              "[5 rows x 15 columns]"
            ]
          },
          "metadata": {
            "tags": []
          },
          "execution_count": 31
        }
      ]
    },
    {
      "cell_type": "code",
      "metadata": {
        "id": "P1YHUZ9gxI83",
        "colab_type": "code",
        "outputId": "6a0e8377-4b89-454c-f3f2-a1d4d02faa7b",
        "colab": {
          "base_uri": "https://localhost:8080/",
          "height": 479
        }
      },
      "source": [
        "#Reading testing dataset using pandas read_excel\n",
        "#testMovieData = pd.read_excel(\"Scoring Sheet.xlsx\")\n",
        "testMovieData = pd.read_excel(\"/content/gdrive/My Drive/Datasets/Scoring Sheet.xlsx\")\n",
        "testMovieData.head()"
      ],
      "execution_count": 0,
      "outputs": [
        {
          "output_type": "execute_result",
          "data": {
            "text/html": [
              "<div>\n",
              "<style scoped>\n",
              "    .dataframe tbody tr th:only-of-type {\n",
              "        vertical-align: middle;\n",
              "    }\n",
              "\n",
              "    .dataframe tbody tr th {\n",
              "        vertical-align: top;\n",
              "    }\n",
              "\n",
              "    .dataframe thead th {\n",
              "        text-align: right;\n",
              "    }\n",
              "</style>\n",
              "<table border=\"1\" class=\"dataframe\">\n",
              "  <thead>\n",
              "    <tr style=\"text-align: right;\">\n",
              "      <th></th>\n",
              "      <th>id</th>\n",
              "      <th>name</th>\n",
              "      <th>display_name</th>\n",
              "      <th>production_budget</th>\n",
              "      <th>production_year</th>\n",
              "      <th>movie_sequel</th>\n",
              "      <th>creative_type</th>\n",
              "      <th>source</th>\n",
              "      <th>production_method</th>\n",
              "      <th>genre</th>\n",
              "      <th>language</th>\n",
              "      <th>board_rating_reason</th>\n",
              "      <th>movie_board_rating_display_name</th>\n",
              "      <th>movie_release_pattern_display_name</th>\n",
              "    </tr>\n",
              "  </thead>\n",
              "  <tbody>\n",
              "    <tr>\n",
              "      <th>0</th>\n",
              "      <td>7970115</td>\n",
              "      <td>Avengers, The (2011)</td>\n",
              "      <td>Marvel's The Avengers</td>\n",
              "      <td>225000000</td>\n",
              "      <td>2012</td>\n",
              "      <td>0</td>\n",
              "      <td>Super Hero</td>\n",
              "      <td>Based on Comic/Graphic Novel</td>\n",
              "      <td>Live Action</td>\n",
              "      <td>Adventure</td>\n",
              "      <td>English</td>\n",
              "      <td>for intense sequences of sci-fi violence and a...</td>\n",
              "      <td>PG-13</td>\n",
              "      <td>Wide</td>\n",
              "    </tr>\n",
              "    <tr>\n",
              "      <th>1</th>\n",
              "      <td>174540115</td>\n",
              "      <td>Dark Knight Rises The</td>\n",
              "      <td>The Dark Knight Rises</td>\n",
              "      <td>0</td>\n",
              "      <td>2012</td>\n",
              "      <td>1</td>\n",
              "      <td>Super Hero</td>\n",
              "      <td>Based on Comic/Graphic Novel</td>\n",
              "      <td>Live Action</td>\n",
              "      <td>Action</td>\n",
              "      <td>English</td>\n",
              "      <td>for intense sequences of violence and action, ...</td>\n",
              "      <td>PG-13</td>\n",
              "      <td>Wide</td>\n",
              "    </tr>\n",
              "    <tr>\n",
              "      <th>2</th>\n",
              "      <td>149080115</td>\n",
              "      <td>Bond 23</td>\n",
              "      <td>Skyfall</td>\n",
              "      <td>200000000</td>\n",
              "      <td>2012</td>\n",
              "      <td>1</td>\n",
              "      <td>Contemporary Fiction</td>\n",
              "      <td>Based on Fiction Book/Short Story</td>\n",
              "      <td>Live Action</td>\n",
              "      <td>Action</td>\n",
              "      <td>English</td>\n",
              "      <td>for intense violent sequences throughout, some...</td>\n",
              "      <td>PG-13</td>\n",
              "      <td>Wide</td>\n",
              "    </tr>\n",
              "    <tr>\n",
              "      <th>3</th>\n",
              "      <td>136020115</td>\n",
              "      <td>Twilight Saga Breaking Dawn Part 2 The</td>\n",
              "      <td>The Twilight Saga: Breaking Dawn, Part 2</td>\n",
              "      <td>136200000</td>\n",
              "      <td>2012</td>\n",
              "      <td>1</td>\n",
              "      <td>Fantasy</td>\n",
              "      <td>Based on Fiction Book/Short Story</td>\n",
              "      <td>Live Action</td>\n",
              "      <td>Drama</td>\n",
              "      <td>English</td>\n",
              "      <td>for sequences of violence including disturbing...</td>\n",
              "      <td>PG-13</td>\n",
              "      <td>Wide</td>\n",
              "    </tr>\n",
              "    <tr>\n",
              "      <th>4</th>\n",
              "      <td>53500115</td>\n",
              "      <td>Hobbit, The</td>\n",
              "      <td>The Hobbit: An Unexpected Journey</td>\n",
              "      <td>270000000</td>\n",
              "      <td>2012</td>\n",
              "      <td>1</td>\n",
              "      <td>Fantasy</td>\n",
              "      <td>Based on Fiction Book/Short Story</td>\n",
              "      <td>Animation/Live Action</td>\n",
              "      <td>Adventure</td>\n",
              "      <td>English</td>\n",
              "      <td>for extended sequences of intense fantasy acti...</td>\n",
              "      <td>PG-13</td>\n",
              "      <td>Wide</td>\n",
              "    </tr>\n",
              "  </tbody>\n",
              "</table>\n",
              "</div>"
            ],
            "text/plain": [
              "          id  ... movie_release_pattern_display_name\n",
              "0    7970115  ...                               Wide\n",
              "1  174540115  ...                               Wide\n",
              "2  149080115  ...                               Wide\n",
              "3  136020115  ...                               Wide\n",
              "4   53500115  ...                               Wide\n",
              "\n",
              "[5 rows x 14 columns]"
            ]
          },
          "metadata": {
            "tags": []
          },
          "execution_count": 32
        }
      ]
    },
    {
      "cell_type": "code",
      "metadata": {
        "id": "-NfEViIjxKLB",
        "colab_type": "code",
        "outputId": "a7dd7bb6-bc9d-47b9-9804-7d8f2518d790",
        "colab": {
          "base_uri": "https://localhost:8080/",
          "height": 102
        }
      },
      "source": [
        "trainMovieData.columns"
      ],
      "execution_count": 0,
      "outputs": [
        {
          "output_type": "execute_result",
          "data": {
            "text/plain": [
              "Index(['id', 'name', 'display_name', 'production_year', 'movie_sequel',\n",
              "       'creative_type', 'source', 'production_method', 'genre', 'language',\n",
              "       'board_rating_reason', 'movie_board_rating_display_name',\n",
              "       'movie_release_pattern_display_name', 'total', 'Category'],\n",
              "      dtype='object')"
            ]
          },
          "metadata": {
            "tags": []
          },
          "execution_count": 33
        }
      ]
    },
    {
      "cell_type": "code",
      "metadata": {
        "id": "bLyjDX36xMWm",
        "colab_type": "code",
        "outputId": "d4e54b21-6472-40ea-f2fa-30a534d2dc98",
        "colab": {
          "base_uri": "https://localhost:8080/",
          "height": 102
        }
      },
      "source": [
        "testMovieData.columns"
      ],
      "execution_count": 0,
      "outputs": [
        {
          "output_type": "execute_result",
          "data": {
            "text/plain": [
              "Index(['id', 'name', 'display_name', 'production_budget', 'production_year',\n",
              "       'movie_sequel', 'creative_type', 'source', 'production_method', 'genre',\n",
              "       'language', 'board_rating_reason', 'movie_board_rating_display_name',\n",
              "       'movie_release_pattern_display_name'],\n",
              "      dtype='object')"
            ]
          },
          "metadata": {
            "tags": []
          },
          "execution_count": 34
        }
      ]
    },
    {
      "cell_type": "code",
      "metadata": {
        "id": "nzcYa6tjxQdp",
        "colab_type": "code",
        "outputId": "c49df1c5-26fc-4826-ebe5-00cdaddd0540",
        "colab": {
          "base_uri": "https://localhost:8080/",
          "height": 289
        }
      },
      "source": [
        "#Checking no. of categories in each column in training data\n",
        "trainMovieData.apply(lambda x: len(x.unique()))"
      ],
      "execution_count": 0,
      "outputs": [
        {
          "output_type": "execute_result",
          "data": {
            "text/plain": [
              "id                                    1196\n",
              "name                                  1196\n",
              "display_name                          1195\n",
              "production_year                          5\n",
              "movie_sequel                             2\n",
              "creative_type                            9\n",
              "source                                  16\n",
              "production_method                        6\n",
              "genre                                   13\n",
              "language                                16\n",
              "board_rating_reason                   1003\n",
              "movie_board_rating_display_name          6\n",
              "movie_release_pattern_display_name       7\n",
              "total                                  324\n",
              "Category                                 9\n",
              "dtype: int64"
            ]
          },
          "metadata": {
            "tags": []
          },
          "execution_count": 35
        }
      ]
    },
    {
      "cell_type": "code",
      "metadata": {
        "id": "jeHdDE_7xTXU",
        "colab_type": "code",
        "outputId": "f08f5647-ffda-4c1f-defd-f88d75fb28aa",
        "colab": {
          "base_uri": "https://localhost:8080/",
          "height": 272
        }
      },
      "source": [
        "#Checking no. of categories in each column in testing data\n",
        "testMovieData.apply(lambda x: len(x.unique()))"
      ],
      "execution_count": 0,
      "outputs": [
        {
          "output_type": "execute_result",
          "data": {
            "text/plain": [
              "id                                    91\n",
              "name                                  91\n",
              "display_name                          91\n",
              "production_budget                     26\n",
              "production_year                        1\n",
              "movie_sequel                           2\n",
              "creative_type                          8\n",
              "source                                10\n",
              "production_method                      3\n",
              "genre                                  9\n",
              "language                               5\n",
              "board_rating_reason                   79\n",
              "movie_board_rating_display_name        5\n",
              "movie_release_pattern_display_name     6\n",
              "dtype: int64"
            ]
          },
          "metadata": {
            "tags": []
          },
          "execution_count": 36
        }
      ]
    },
    {
      "cell_type": "code",
      "metadata": {
        "id": "Gfzp1qZwxU0r",
        "colab_type": "code",
        "outputId": "2e83dd04-8cef-4767-9626-dfa5de7b7a59",
        "colab": {
          "base_uri": "https://localhost:8080/",
          "height": 1000
        }
      },
      "source": [
        "# Exploratory Data Analysis\n",
        "# 1. Creative category of the movie distribution in dataset\n",
        "labels = trainMovieData['creative_type'].value_counts().index\n",
        "colors = ['orange','red','magenta','yellow','green','pink','white','grey','blue']\n",
        "explode = [0.1,0.1,0.1,0.1,0.1,0.1,0.1,0.1,0.1]\n",
        "sizes = trainMovieData['creative_type'].value_counts().values\n",
        "plt.figure(figsize = (10,5))\n",
        "plt.pie(sizes, labels=labels,explode=explode, colors=colors, autopct='%1.1f%%')\n",
        "plt.title('Movie\\'s Creative category Distribution',color = 'Black',fontsize = 15)\n",
        "plt.show()\n",
        "\n",
        "# 2. Genre of the movie distribution in dataset\n",
        "genre_count = trainMovieData['genre'].value_counts().sort_index()\n",
        "df_gCount = pd.DataFrame({'genre': genre_count.index, 'count': genre_count.values})\n",
        "f, ax = plt.subplots(figsize=(10, 5))\n",
        "sns.barplot(x = 'count', y = 'genre', data=df_gCount)\n",
        "ax.set_title('.: Movie Occurences per genre :.',color = 'Black',fontsize = 15)\n",
        "ax.set_xlabel('Occurrences')\n",
        "ax.set_ylabel('Genre of the movie')\n",
        "plt.show()\n",
        "\n",
        "#3 Production Style v/s Total Gross Earnings \n",
        "f, ax = plt.subplots(figsize=(10, 5))\n",
        "chart3 = sns.swarmplot(x='production_method', y='total', data=trainMovieData)\n",
        "chart3.set_xticklabels(chart3.get_xticklabels(), rotation=13)\n",
        "ax.set_title('Production Style vs Total Gross Earnings of movies',color = 'Black',fontsize = 15)\n",
        "ax.set_xlabel('Production Style')\n",
        "ax.set_ylabel('Total Gross Earnings')"
      ],
      "execution_count": 0,
      "outputs": [
        {
          "output_type": "display_data",
          "data": {
            "image/png": "[encoded data removed]",
            "text/plain": [
              "<Figure size 720x360 with 1 Axes>"
            ]
          },
          "metadata": {
            "tags": []
          }
        },
        {
          "output_type": "display_data",
          "data": {
            "image/png": "[encoded data removed]",
            "text/plain": [
              "<Figure size 720x360 with 1 Axes>"
            ]
          },
          "metadata": {
            "tags": []
          }
        },
        {
          "output_type": "execute_result",
          "data": {
            "text/plain": [
              "Text(0, 0.5, 'Total Gross Earnings')"
            ]
          },
          "metadata": {
            "tags": []
          },
          "execution_count": 37
        },
        {
          "output_type": "display_data",
          "data": {
            "image/png": "[encoded data removed]",
            "text/plain": [
              "<Figure size 720x360 with 1 Axes>"
            ]
          },
          "metadata": {
            "tags": []
          }
        }
      ]
    },
    {
      "cell_type": "code",
      "metadata": {
        "id": "cM8EtCp3xzJI",
        "colab_type": "code",
        "colab": {}
      },
      "source": [
        "#New Dataframe for Training set fetching categorical columns to handle\n",
        "trainMovieData_new = trainMovieData[['production_year','movie_sequel','creative_type','source','production_method','genre','language',\n",
        "                                   'movie_board_rating_display_name','movie_release_pattern_display_name']].copy()"
      ],
      "execution_count": 0,
      "outputs": []
    },
    {
      "cell_type": "code",
      "metadata": {
        "id": "pK_mApcQxzN_",
        "colab_type": "code",
        "colab": {}
      },
      "source": [
        "#New Dataframe for Testing set fetching categorical columns to handle\n",
        "testMovieData_new = testMovieData[['production_year','movie_sequel','creative_type','source','production_method','genre','language',\n",
        "                                   'movie_board_rating_display_name','movie_release_pattern_display_name']].copy()"
      ],
      "execution_count": 0,
      "outputs": []
    },
    {
      "cell_type": "code",
      "metadata": {
        "id": "eKEBUHbjxzVQ",
        "colab_type": "code",
        "outputId": "664fe531-aedd-414e-e278-c00b93f8eff8",
        "colab": {
          "base_uri": "https://localhost:8080/",
          "height": 304
        }
      },
      "source": [
        "train_len = len(trainMovieData_new)\n",
        "\n",
        "#Merging both Dataframe to ensure same number of features after one hot encoding \n",
        "MergedDataset = pd.concat(objs=[trainMovieData_new, testMovieData_new], axis=0)\n",
        "MergedDataset = pd.get_dummies(MergedDataset, columns=['production_year','movie_sequel','creative_type','source','production_method','genre','language',\n",
        "                                   'movie_board_rating_display_name','movie_release_pattern_display_name'])\n",
        "MergedDataset.head()"
      ],
      "execution_count": 0,
      "outputs": [
        {
          "output_type": "execute_result",
          "data": {
            "text/html": [
              "<div>\n",
              "<style scoped>\n",
              "    .dataframe tbody tr th:only-of-type {\n",
              "        vertical-align: middle;\n",
              "    }\n",
              "\n",
              "    .dataframe tbody tr th {\n",
              "        vertical-align: top;\n",
              "    }\n",
              "\n",
              "    .dataframe thead th {\n",
              "        text-align: right;\n",
              "    }\n",
              "</style>\n",
              "<table border=\"1\" class=\"dataframe\">\n",
              "  <thead>\n",
              "    <tr style=\"text-align: right;\">\n",
              "      <th></th>\n",
              "      <th>production_year_2007</th>\n",
              "      <th>production_year_2008</th>\n",
              "      <th>production_year_2009</th>\n",
              "      <th>production_year_2010</th>\n",
              "      <th>production_year_2011</th>\n",
              "      <th>production_year_2012</th>\n",
              "      <th>movie_sequel_0</th>\n",
              "      <th>movie_sequel_1</th>\n",
              "      <th>creative_type_Contemporary Fiction</th>\n",
              "      <th>creative_type_Dramatization</th>\n",
              "      <th>creative_type_Factual</th>\n",
              "      <th>creative_type_Fantasy</th>\n",
              "      <th>creative_type_Historical Fiction</th>\n",
              "      <th>creative_type_Kids Fiction</th>\n",
              "      <th>creative_type_Multiple Creative Types</th>\n",
              "      <th>creative_type_Science Fiction</th>\n",
              "      <th>creative_type_Super Hero</th>\n",
              "      <th>source_Based on Comic/Graphic Novel</th>\n",
              "      <th>source_Based on Factual Book/Article</th>\n",
              "      <th>source_Based on Fiction Book/Short Story</th>\n",
              "      <th>source_Based on Folk Tale/Legend/Fairytale</th>\n",
              "      <th>source_Based on Game</th>\n",
              "      <th>source_Based on Musical or Opera</th>\n",
              "      <th>source_Based on Play</th>\n",
              "      <th>source_Based on Real Life Events</th>\n",
              "      <th>source_Based on Short Film</th>\n",
              "      <th>source_Based on TV</th>\n",
              "      <th>source_Based on Theme Park Ride</th>\n",
              "      <th>source_Based on Toy</th>\n",
              "      <th>source_Compilation</th>\n",
              "      <th>source_Original Screenplay</th>\n",
              "      <th>source_Remake</th>\n",
              "      <th>source_Spin-Off</th>\n",
              "      <th>production_method_Animation/Live Action</th>\n",
              "      <th>production_method_Digital Animation</th>\n",
              "      <th>production_method_Hand Animation</th>\n",
              "      <th>production_method_Live Action</th>\n",
              "      <th>production_method_Multiple Production Methods</th>\n",
              "      <th>production_method_Stop-Motion Animation</th>\n",
              "      <th>genre_Action</th>\n",
              "      <th>...</th>\n",
              "      <th>genre_Comedy</th>\n",
              "      <th>genre_Concert/Performance</th>\n",
              "      <th>genre_Documentary</th>\n",
              "      <th>genre_Drama</th>\n",
              "      <th>genre_Horror</th>\n",
              "      <th>genre_Multiple Genres</th>\n",
              "      <th>genre_Musical</th>\n",
              "      <th>genre_Romantic Comedy</th>\n",
              "      <th>genre_Thriller/Suspense</th>\n",
              "      <th>genre_Western</th>\n",
              "      <th>language_Arabic</th>\n",
              "      <th>language_Danish</th>\n",
              "      <th>language_English</th>\n",
              "      <th>language_Farsi</th>\n",
              "      <th>language_French</th>\n",
              "      <th>language_German</th>\n",
              "      <th>language_Hebrew</th>\n",
              "      <th>language_Hindi</th>\n",
              "      <th>language_Indonesian/Balinese</th>\n",
              "      <th>language_Italian</th>\n",
              "      <th>language_Japanese</th>\n",
              "      <th>language_Norwegian</th>\n",
              "      <th>language_Polish</th>\n",
              "      <th>language_Portuguese</th>\n",
              "      <th>language_Silent</th>\n",
              "      <th>language_Spanish</th>\n",
              "      <th>language_Swedish</th>\n",
              "      <th>movie_board_rating_display_name_G</th>\n",
              "      <th>movie_board_rating_display_name_NC-17</th>\n",
              "      <th>movie_board_rating_display_name_Not Rated</th>\n",
              "      <th>movie_board_rating_display_name_PG</th>\n",
              "      <th>movie_board_rating_display_name_PG-13</th>\n",
              "      <th>movie_board_rating_display_name_R</th>\n",
              "      <th>movie_release_pattern_display_name_Exclusive</th>\n",
              "      <th>movie_release_pattern_display_name_Expands Wide</th>\n",
              "      <th>movie_release_pattern_display_name_IMAX</th>\n",
              "      <th>movie_release_pattern_display_name_Limited</th>\n",
              "      <th>movie_release_pattern_display_name_Oscar Qualifying Run</th>\n",
              "      <th>movie_release_pattern_display_name_Special Engagement</th>\n",
              "      <th>movie_release_pattern_display_name_Wide</th>\n",
              "    </tr>\n",
              "  </thead>\n",
              "  <tbody>\n",
              "    <tr>\n",
              "      <th>0</th>\n",
              "      <td>0</td>\n",
              "      <td>0</td>\n",
              "      <td>1</td>\n",
              "      <td>0</td>\n",
              "      <td>0</td>\n",
              "      <td>0</td>\n",
              "      <td>1</td>\n",
              "      <td>0</td>\n",
              "      <td>0</td>\n",
              "      <td>0</td>\n",
              "      <td>0</td>\n",
              "      <td>0</td>\n",
              "      <td>0</td>\n",
              "      <td>0</td>\n",
              "      <td>0</td>\n",
              "      <td>1</td>\n",
              "      <td>0</td>\n",
              "      <td>0</td>\n",
              "      <td>0</td>\n",
              "      <td>0</td>\n",
              "      <td>0</td>\n",
              "      <td>0</td>\n",
              "      <td>0</td>\n",
              "      <td>0</td>\n",
              "      <td>0</td>\n",
              "      <td>0</td>\n",
              "      <td>0</td>\n",
              "      <td>0</td>\n",
              "      <td>0</td>\n",
              "      <td>0</td>\n",
              "      <td>1</td>\n",
              "      <td>0</td>\n",
              "      <td>0</td>\n",
              "      <td>1</td>\n",
              "      <td>0</td>\n",
              "      <td>0</td>\n",
              "      <td>0</td>\n",
              "      <td>0</td>\n",
              "      <td>0</td>\n",
              "      <td>1</td>\n",
              "      <td>...</td>\n",
              "      <td>0</td>\n",
              "      <td>0</td>\n",
              "      <td>0</td>\n",
              "      <td>0</td>\n",
              "      <td>0</td>\n",
              "      <td>0</td>\n",
              "      <td>0</td>\n",
              "      <td>0</td>\n",
              "      <td>0</td>\n",
              "      <td>0</td>\n",
              "      <td>0</td>\n",
              "      <td>0</td>\n",
              "      <td>1</td>\n",
              "      <td>0</td>\n",
              "      <td>0</td>\n",
              "      <td>0</td>\n",
              "      <td>0</td>\n",
              "      <td>0</td>\n",
              "      <td>0</td>\n",
              "      <td>0</td>\n",
              "      <td>0</td>\n",
              "      <td>0</td>\n",
              "      <td>0</td>\n",
              "      <td>0</td>\n",
              "      <td>0</td>\n",
              "      <td>0</td>\n",
              "      <td>0</td>\n",
              "      <td>0</td>\n",
              "      <td>0</td>\n",
              "      <td>0</td>\n",
              "      <td>0</td>\n",
              "      <td>1</td>\n",
              "      <td>0</td>\n",
              "      <td>0</td>\n",
              "      <td>0</td>\n",
              "      <td>0</td>\n",
              "      <td>0</td>\n",
              "      <td>0</td>\n",
              "      <td>0</td>\n",
              "      <td>1</td>\n",
              "    </tr>\n",
              "    <tr>\n",
              "      <th>1</th>\n",
              "      <td>0</td>\n",
              "      <td>0</td>\n",
              "      <td>0</td>\n",
              "      <td>0</td>\n",
              "      <td>1</td>\n",
              "      <td>0</td>\n",
              "      <td>0</td>\n",
              "      <td>1</td>\n",
              "      <td>0</td>\n",
              "      <td>0</td>\n",
              "      <td>0</td>\n",
              "      <td>1</td>\n",
              "      <td>0</td>\n",
              "      <td>0</td>\n",
              "      <td>0</td>\n",
              "      <td>0</td>\n",
              "      <td>0</td>\n",
              "      <td>0</td>\n",
              "      <td>0</td>\n",
              "      <td>1</td>\n",
              "      <td>0</td>\n",
              "      <td>0</td>\n",
              "      <td>0</td>\n",
              "      <td>0</td>\n",
              "      <td>0</td>\n",
              "      <td>0</td>\n",
              "      <td>0</td>\n",
              "      <td>0</td>\n",
              "      <td>0</td>\n",
              "      <td>0</td>\n",
              "      <td>0</td>\n",
              "      <td>0</td>\n",
              "      <td>0</td>\n",
              "      <td>1</td>\n",
              "      <td>0</td>\n",
              "      <td>0</td>\n",
              "      <td>0</td>\n",
              "      <td>0</td>\n",
              "      <td>0</td>\n",
              "      <td>0</td>\n",
              "      <td>...</td>\n",
              "      <td>0</td>\n",
              "      <td>0</td>\n",
              "      <td>0</td>\n",
              "      <td>0</td>\n",
              "      <td>0</td>\n",
              "      <td>0</td>\n",
              "      <td>0</td>\n",
              "      <td>0</td>\n",
              "      <td>0</td>\n",
              "      <td>0</td>\n",
              "      <td>0</td>\n",
              "      <td>0</td>\n",
              "      <td>1</td>\n",
              "      <td>0</td>\n",
              "      <td>0</td>\n",
              "      <td>0</td>\n",
              "      <td>0</td>\n",
              "      <td>0</td>\n",
              "      <td>0</td>\n",
              "      <td>0</td>\n",
              "      <td>0</td>\n",
              "      <td>0</td>\n",
              "      <td>0</td>\n",
              "      <td>0</td>\n",
              "      <td>0</td>\n",
              "      <td>0</td>\n",
              "      <td>0</td>\n",
              "      <td>0</td>\n",
              "      <td>0</td>\n",
              "      <td>0</td>\n",
              "      <td>0</td>\n",
              "      <td>1</td>\n",
              "      <td>0</td>\n",
              "      <td>0</td>\n",
              "      <td>0</td>\n",
              "      <td>0</td>\n",
              "      <td>0</td>\n",
              "      <td>0</td>\n",
              "      <td>0</td>\n",
              "      <td>1</td>\n",
              "    </tr>\n",
              "    <tr>\n",
              "      <th>2</th>\n",
              "      <td>0</td>\n",
              "      <td>0</td>\n",
              "      <td>0</td>\n",
              "      <td>0</td>\n",
              "      <td>1</td>\n",
              "      <td>0</td>\n",
              "      <td>0</td>\n",
              "      <td>1</td>\n",
              "      <td>0</td>\n",
              "      <td>0</td>\n",
              "      <td>0</td>\n",
              "      <td>0</td>\n",
              "      <td>0</td>\n",
              "      <td>0</td>\n",
              "      <td>0</td>\n",
              "      <td>1</td>\n",
              "      <td>0</td>\n",
              "      <td>0</td>\n",
              "      <td>0</td>\n",
              "      <td>0</td>\n",
              "      <td>0</td>\n",
              "      <td>0</td>\n",
              "      <td>0</td>\n",
              "      <td>0</td>\n",
              "      <td>0</td>\n",
              "      <td>0</td>\n",
              "      <td>1</td>\n",
              "      <td>0</td>\n",
              "      <td>0</td>\n",
              "      <td>0</td>\n",
              "      <td>0</td>\n",
              "      <td>0</td>\n",
              "      <td>0</td>\n",
              "      <td>1</td>\n",
              "      <td>0</td>\n",
              "      <td>0</td>\n",
              "      <td>0</td>\n",
              "      <td>0</td>\n",
              "      <td>0</td>\n",
              "      <td>1</td>\n",
              "      <td>...</td>\n",
              "      <td>0</td>\n",
              "      <td>0</td>\n",
              "      <td>0</td>\n",
              "      <td>0</td>\n",
              "      <td>0</td>\n",
              "      <td>0</td>\n",
              "      <td>0</td>\n",
              "      <td>0</td>\n",
              "      <td>0</td>\n",
              "      <td>0</td>\n",
              "      <td>0</td>\n",
              "      <td>0</td>\n",
              "      <td>1</td>\n",
              "      <td>0</td>\n",
              "      <td>0</td>\n",
              "      <td>0</td>\n",
              "      <td>0</td>\n",
              "      <td>0</td>\n",
              "      <td>0</td>\n",
              "      <td>0</td>\n",
              "      <td>0</td>\n",
              "      <td>0</td>\n",
              "      <td>0</td>\n",
              "      <td>0</td>\n",
              "      <td>0</td>\n",
              "      <td>0</td>\n",
              "      <td>0</td>\n",
              "      <td>0</td>\n",
              "      <td>0</td>\n",
              "      <td>0</td>\n",
              "      <td>0</td>\n",
              "      <td>1</td>\n",
              "      <td>0</td>\n",
              "      <td>0</td>\n",
              "      <td>0</td>\n",
              "      <td>0</td>\n",
              "      <td>0</td>\n",
              "      <td>0</td>\n",
              "      <td>0</td>\n",
              "      <td>1</td>\n",
              "    </tr>\n",
              "    <tr>\n",
              "      <th>3</th>\n",
              "      <td>0</td>\n",
              "      <td>0</td>\n",
              "      <td>0</td>\n",
              "      <td>1</td>\n",
              "      <td>0</td>\n",
              "      <td>0</td>\n",
              "      <td>0</td>\n",
              "      <td>1</td>\n",
              "      <td>0</td>\n",
              "      <td>0</td>\n",
              "      <td>0</td>\n",
              "      <td>0</td>\n",
              "      <td>0</td>\n",
              "      <td>1</td>\n",
              "      <td>0</td>\n",
              "      <td>0</td>\n",
              "      <td>0</td>\n",
              "      <td>0</td>\n",
              "      <td>0</td>\n",
              "      <td>0</td>\n",
              "      <td>0</td>\n",
              "      <td>0</td>\n",
              "      <td>0</td>\n",
              "      <td>0</td>\n",
              "      <td>0</td>\n",
              "      <td>0</td>\n",
              "      <td>0</td>\n",
              "      <td>0</td>\n",
              "      <td>0</td>\n",
              "      <td>0</td>\n",
              "      <td>1</td>\n",
              "      <td>0</td>\n",
              "      <td>0</td>\n",
              "      <td>0</td>\n",
              "      <td>1</td>\n",
              "      <td>0</td>\n",
              "      <td>0</td>\n",
              "      <td>0</td>\n",
              "      <td>0</td>\n",
              "      <td>0</td>\n",
              "      <td>...</td>\n",
              "      <td>0</td>\n",
              "      <td>0</td>\n",
              "      <td>0</td>\n",
              "      <td>0</td>\n",
              "      <td>0</td>\n",
              "      <td>0</td>\n",
              "      <td>0</td>\n",
              "      <td>0</td>\n",
              "      <td>0</td>\n",
              "      <td>0</td>\n",
              "      <td>0</td>\n",
              "      <td>0</td>\n",
              "      <td>1</td>\n",
              "      <td>0</td>\n",
              "      <td>0</td>\n",
              "      <td>0</td>\n",
              "      <td>0</td>\n",
              "      <td>0</td>\n",
              "      <td>0</td>\n",
              "      <td>0</td>\n",
              "      <td>0</td>\n",
              "      <td>0</td>\n",
              "      <td>0</td>\n",
              "      <td>0</td>\n",
              "      <td>0</td>\n",
              "      <td>0</td>\n",
              "      <td>0</td>\n",
              "      <td>1</td>\n",
              "      <td>0</td>\n",
              "      <td>0</td>\n",
              "      <td>0</td>\n",
              "      <td>0</td>\n",
              "      <td>0</td>\n",
              "      <td>0</td>\n",
              "      <td>0</td>\n",
              "      <td>0</td>\n",
              "      <td>0</td>\n",
              "      <td>0</td>\n",
              "      <td>0</td>\n",
              "      <td>1</td>\n",
              "    </tr>\n",
              "    <tr>\n",
              "      <th>4</th>\n",
              "      <td>0</td>\n",
              "      <td>0</td>\n",
              "      <td>0</td>\n",
              "      <td>0</td>\n",
              "      <td>1</td>\n",
              "      <td>0</td>\n",
              "      <td>0</td>\n",
              "      <td>1</td>\n",
              "      <td>0</td>\n",
              "      <td>0</td>\n",
              "      <td>0</td>\n",
              "      <td>1</td>\n",
              "      <td>0</td>\n",
              "      <td>0</td>\n",
              "      <td>0</td>\n",
              "      <td>0</td>\n",
              "      <td>0</td>\n",
              "      <td>0</td>\n",
              "      <td>0</td>\n",
              "      <td>0</td>\n",
              "      <td>0</td>\n",
              "      <td>0</td>\n",
              "      <td>0</td>\n",
              "      <td>0</td>\n",
              "      <td>0</td>\n",
              "      <td>0</td>\n",
              "      <td>0</td>\n",
              "      <td>1</td>\n",
              "      <td>0</td>\n",
              "      <td>0</td>\n",
              "      <td>0</td>\n",
              "      <td>0</td>\n",
              "      <td>0</td>\n",
              "      <td>0</td>\n",
              "      <td>0</td>\n",
              "      <td>0</td>\n",
              "      <td>1</td>\n",
              "      <td>0</td>\n",
              "      <td>0</td>\n",
              "      <td>0</td>\n",
              "      <td>...</td>\n",
              "      <td>0</td>\n",
              "      <td>0</td>\n",
              "      <td>0</td>\n",
              "      <td>0</td>\n",
              "      <td>0</td>\n",
              "      <td>0</td>\n",
              "      <td>0</td>\n",
              "      <td>0</td>\n",
              "      <td>0</td>\n",
              "      <td>0</td>\n",
              "      <td>0</td>\n",
              "      <td>0</td>\n",
              "      <td>1</td>\n",
              "      <td>0</td>\n",
              "      <td>0</td>\n",
              "      <td>0</td>\n",
              "      <td>0</td>\n",
              "      <td>0</td>\n",
              "      <td>0</td>\n",
              "      <td>0</td>\n",
              "      <td>0</td>\n",
              "      <td>0</td>\n",
              "      <td>0</td>\n",
              "      <td>0</td>\n",
              "      <td>0</td>\n",
              "      <td>0</td>\n",
              "      <td>0</td>\n",
              "      <td>0</td>\n",
              "      <td>0</td>\n",
              "      <td>0</td>\n",
              "      <td>0</td>\n",
              "      <td>1</td>\n",
              "      <td>0</td>\n",
              "      <td>0</td>\n",
              "      <td>0</td>\n",
              "      <td>0</td>\n",
              "      <td>0</td>\n",
              "      <td>0</td>\n",
              "      <td>0</td>\n",
              "      <td>1</td>\n",
              "    </tr>\n",
              "  </tbody>\n",
              "</table>\n",
              "<p>5 rows × 82 columns</p>\n",
              "</div>"
            ],
            "text/plain": [
              "   production_year_2007  ...  movie_release_pattern_display_name_Wide\n",
              "0                     0  ...                                        1\n",
              "1                     0  ...                                        1\n",
              "2                     0  ...                                        1\n",
              "3                     0  ...                                        1\n",
              "4                     0  ...                                        1\n",
              "\n",
              "[5 rows x 82 columns]"
            ]
          },
          "metadata": {
            "tags": []
          },
          "execution_count": 40
        }
      ]
    },
    {
      "cell_type": "code",
      "metadata": {
        "id": "OfLtOBNHxzZr",
        "colab_type": "code",
        "colab": {}
      },
      "source": [
        "#Splitting both Dataframe after ensuring same number of features after one hot encoding of categorical variables\n",
        "trainMovieData_new = MergedDataset[:train_len].copy()\n",
        "testMovieData_new = MergedDataset[train_len:].copy()"
      ],
      "execution_count": 0,
      "outputs": []
    },
    {
      "cell_type": "code",
      "metadata": {
        "id": "FV6BMeqexzfp",
        "colab_type": "code",
        "colab": {}
      },
      "source": [
        "# Adding board_rating_reason in training dataframe\n",
        "trainMovieData_new['board_rating_reason']= trainMovieData['board_rating_reason']\n",
        "\n",
        "# Adding board_rating_reason in testing dataframe\n",
        "testMovieData_new['board_rating_reason']= testMovieData['board_rating_reason']"
      ],
      "execution_count": 0,
      "outputs": []
    },
    {
      "cell_type": "code",
      "metadata": {
        "id": "jaC_kNdmxzTy",
        "colab_type": "code",
        "outputId": "288aa879-9018-46ea-e977-7d57c89786bd",
        "colab": {
          "base_uri": "https://localhost:8080/",
          "height": 54
        }
      },
      "source": [
        "#Removing spaces and converting to lowercase for board_rating_reason in Training set\n",
        "trainMovieData_new['board_rating_reason'] = trainMovieData_new['board_rating_reason'].str.replace('[^\\w\\s]','')\n",
        "for i in trainMovieData_new['board_rating_reason']:\n",
        "  i= i.lower()\n",
        "\n",
        "#Removing spaces and converting to lowercase for board_rating_reason in Testing set\n",
        "testMovieData_new['board_rating_reason'] = testMovieData_new['board_rating_reason'].str.replace('[^\\w\\s]','')\n",
        "for i in testMovieData_new['board_rating_reason']:\n",
        "  i= i.lower()\n",
        "\n",
        "#Removing stopwords and fetching unique words from board_rating_reason\n",
        "sentences1 = []\n",
        "uniqueWordList = trainMovieData_new.board_rating_reason.str.split(expand=True).stack()\n",
        "sentences1 = [w for w in uniqueWordList if not w in stop_words]\n",
        "\n",
        "trainMovieData_new.drop(['board_rating_reason'],axis =1)\n",
        "testMovieData_new.drop(['board_rating_reason'],axis =1)\n",
        "\n",
        "count_UniqueWordList = Counter(sentences1)\n",
        "count_UniqueWordList = sorted(count_UniqueWordList, key=count_UniqueWordList.get, reverse=True)\n",
        "print(count_UniqueWordList)"
      ],
      "execution_count": 0,
      "outputs": [
        {
          "output_type": "stream",
          "text": [
            "['language', 'violence', 'sexual', 'content', 'brief', 'drug', 'strong', 'nudity', 'thematic', 'action', 'material', 'sequences', 'images', 'sexuality', 'For', 'including', 'disturbing', 'use', 'intense', 'mild', 'humor', 'crude', 'pervasive', 'references', 'International', 'excluded', 'elements', 'throughout', 'violent', 'bloody', 'graphic', 'smoking', 'rude', 'sensuality', 'General', 'mature', 'suggestive', 'terror', 'involving', 'scene', 'scifi', 'teen', 'brutal', 'scary', 'partial', 'sexualitynudity', 'dialogue', 'drinking', 'peril', 'horror', 'grisly', 'frightening', 'reference', 'war', 'comic', 'torture', 'gore', 'fantasy', 'alcohol', 'partying', 'image', 'behavior', 'innuendo', 'situations', 'adventure', 'teens', 'rape', 'creature', 'sexrelated', 'contentnudity', 'martial', 'arts', 'abuse', 'incidental', 'battle', 'disaster', 'situation', 'accident', 'assault', 'originally', 'violencedisturbing', 'warfare', 'prolonged', 'mayhem', 'destruction', 'menace', 'comments', 'bullying', 'Audiences', 'male', 'Language', 'moments', 'edited', 'appeal', 'momentary', 'accidents', 'R', 'rerated', 'drugrelated', 'sports', 'fight', 'violencegore', 'substance', 'violenceterror', 'reckless', 'explicit', 'stylized', 'innuendos', 'gruesome', 'PG13', 'nude', 'epic', 'actionadventure', 'actionviolence', 'irreverent', 'emotional', 'western', 'version', 'rated', 'violentgruesome', 'dangerous', 'actionperil', 'risque', 'minor', 'nuditysexual', 'assaults', 'injury', 'child', 'underage', 'frank', 'sequence', 'sadistic', 'Holocaust', 'rerating', 'frenetic', 'depiction', 'nonstop', 'hardships', 'caterpillar', 'swashbuckling', 'sexualitypartial', 'adventures', 'startling', 'color', 'drunkenness', 'one', 'rear', 'choreography', 'PG', 'frequent', 'sustained', 'gangster', 'pending', 'Rerated', 'milde', 'extremely', 'stunts', 'fantasycomic', 'dancing', 'edits', 'coarse', 'carnage', 'animal', 'vicious', 'scenes', 'zombie', 'children', 'gesture', 'animated', 'cartoon', 'several', 'dance', 'routines', 'shooting', 'extended', 'edition', 'realistic', 'thoughout', 'killings', 'languagesexual', 'drugs', 'sensual', 'situationpartial', 'mischief', 'bouts', 'MMA', 'nuditysexuality', 'domestic', 'contentbloody', 'Admission', 'bawdy', 'violentdisturbing', 'sexualitynudtity', 'slang', 'slapstick', 'fightingviolence', 'Appeal', 'dequences', 'supernatural', 'slavery', 'tortureviolence', 'criminality', 'mixed', 'fighting', 'bodily', 'questionable', 'moment', 'brutality', 'attack', 'atrocities', 'racism', 'cultural', 'maternal', 'languages', 'gory', 'racial', 'epithets', 'illegal', 'issues', 'terrorfrightening', 'physical', 'violents', 'preteens', 'climbing', 'historical', 'sex', 'suicide', 'sensualitypartial', 'combat', 'kids', 'sexaul', 'materials', 'extreme', 'descriptions']\n"
          ],
          "name": "stdout"
        }
      ]
    },
    {
      "cell_type": "code",
      "metadata": {
        "id": "xUu5rAcdysD3",
        "colab_type": "code",
        "outputId": "d5a935aa-b173-4114-bacf-315fafb46889",
        "colab": {
          "base_uri": "https://localhost:8080/",
          "height": 272
        }
      },
      "source": [
        "#Top 15 useful words in board_rating_reason\n",
        "top_15 = []\n",
        "for i in range(15):\n",
        "  top_15.append(count_UniqueWordList[i])\n",
        "\n",
        "top_15"
      ],
      "execution_count": 0,
      "outputs": [
        {
          "output_type": "execute_result",
          "data": {
            "text/plain": [
              "['language',\n",
              " 'violence',\n",
              " 'sexual',\n",
              " 'content',\n",
              " 'brief',\n",
              " 'drug',\n",
              " 'strong',\n",
              " 'nudity',\n",
              " 'thematic',\n",
              " 'action',\n",
              " 'material',\n",
              " 'sequences',\n",
              " 'images',\n",
              " 'sexuality',\n",
              " 'For']"
            ]
          },
          "metadata": {
            "tags": []
          },
          "execution_count": 44
        }
      ]
    },
    {
      "cell_type": "code",
      "metadata": {
        "id": "LjS5tU_GysAE",
        "colab_type": "code",
        "colab": {}
      },
      "source": [
        "#Adding board_rating_reason's top 15 word weight column in Training data\n",
        "totalcount = 0\n",
        "total_c = []\n",
        "for i in trainMovieData_new['board_rating_reason']:\n",
        "    count = 0\n",
        "    for j in top_15:\n",
        "        if i.find(j) != -1:\n",
        "            count += 1\n",
        "        else:\n",
        "            pass\n",
        "    totalcount = count\n",
        "    total_c.append(totalcount)\n",
        "\n",
        "dfs = pd.DataFrame(total_c)\n",
        "trainMovieData_new = trainMovieData_new.join(dfs)\n",
        "\n",
        "#Adding board_rating_reason's top 15 word weight column in Testing data\n",
        "totalcount_test = 0\n",
        "total_c_test = []\n",
        "for i in testMovieData_new['board_rating_reason']:\n",
        "    count_test = 0\n",
        "    for j in top_15:\n",
        "        if i.find(j) != -1:\n",
        "            count_test += 1\n",
        "        else:\n",
        "            pass\n",
        "    totalcount_test = count\n",
        "    total_c_test.append(totalcount_test)\n",
        "\n",
        "dfs_test = pd.DataFrame(total_c_test)\n",
        "testMovieData_new = testMovieData_new.join(dfs_test)"
      ],
      "execution_count": 0,
      "outputs": []
    },
    {
      "cell_type": "code",
      "metadata": {
        "id": "R5w9mooUyr9i",
        "colab_type": "code",
        "colab": {}
      },
      "source": [
        "#Adding Label in training\n",
        "trainMovieData_new['Category']= trainMovieData['Category']\n",
        "label = trainMovieData_new['Category']"
      ],
      "execution_count": 0,
      "outputs": []
    },
    {
      "cell_type": "code",
      "metadata": {
        "id": "rL-07PYayr66",
        "colab_type": "code",
        "colab": {}
      },
      "source": [
        "#Dropping columns to keep same number of features and relevant columns for model\n",
        "trainMovieData_new = trainMovieData_new.drop(['board_rating_reason'],axis = 1)\n",
        "testMovieData_new = testMovieData_new.drop(['board_rating_reason'],axis = 1)\n",
        "trainMovieData_new = trainMovieData_new.drop(['Category'],axis = 1)"
      ],
      "execution_count": 0,
      "outputs": []
    },
    {
      "cell_type": "code",
      "metadata": {
        "id": "05rCQr8ry6mK",
        "colab_type": "code",
        "colab": {}
      },
      "source": [
        "#This function prints and plots the confusion matrix.\n",
        "\n",
        "def plot_confusion_matrix(y_true, y_pred, classes,title=None, cmap=plt.cm.Blues):\n",
        "\n",
        "    # Compute confusion matrix\n",
        "    cm = confusion_matrix(y_true, y_pred)\n",
        "    #print(cm)\n",
        "\n",
        "    fig, ax = plt.subplots()\n",
        "    im = ax.imshow(cm, interpolation='nearest', cmap=cmap)\n",
        "    ax.figure.colorbar(im, ax=ax)\n",
        "    # We want to show all ticks...\n",
        "    ax.set(xticks=np.arange(cm.shape[1]),\n",
        "           yticks=np.arange(cm.shape[0]),\n",
        "           # ... and label them with the respective list entries\n",
        "           xticklabels=classes, yticklabels=classes,\n",
        "           title=title,\n",
        "           ylabel='True label',\n",
        "           xlabel='Predicted label')\n",
        "\n",
        "    # Rotate the tick labels and set their alignment.\n",
        "    plt.setp(ax.get_xticklabels(), rotation=45, ha=\"right\",\n",
        "             rotation_mode=\"anchor\")\n",
        "\n",
        "    # Loop over data dimensions and create text annotations.\n",
        "    fmt = 'd'\n",
        "    thresh = cm.max() / 2.\n",
        "    for i in range(cm.shape[0]):\n",
        "        for j in range(cm.shape[1]):\n",
        "            ax.text(j, i, format(cm[i, j], fmt),\n",
        "                    ha=\"center\", va=\"center\",\n",
        "                    color=\"white\" if cm[i, j] > thresh else \"black\")\n",
        "    fig.tight_layout()\n",
        "    fig.savefig('cm_rf_1.png', dpi = 1200)\n",
        "    return ax"
      ],
      "execution_count": 0,
      "outputs": []
    },
    {
      "cell_type": "code",
      "metadata": {
        "id": "hw4p2ZkAy6uz",
        "colab_type": "code",
        "colab": {}
      },
      "source": [
        "#Sentiment Analysis on board_rating_reason\n",
        "#Training\n",
        "vader = SentimentIntensityAnalyzer()\n",
        "pos, neg, compound = [], [], []\n",
        "for i in trainMovieData['board_rating_reason']:\n",
        "    pos.append(vader.polarity_scores(i)['pos'])\n",
        "    neg.append(vader.polarity_scores(i)['neg'])\n",
        "    compound.append(vader.polarity_scores(i)['compound'])\n",
        "\n",
        "trainMovieData_new['pos'] = pos\n",
        "trainMovieData_new['neg'] = neg\n",
        "trainMovieData_new['compound'] = compound\n",
        "\n",
        "#Testing\n",
        "pos_test, neg_test, compound_test = [], [], []\n",
        "for i in testMovieData['board_rating_reason']:\n",
        "    pos_test.append(vader.polarity_scores(i)['pos'])\n",
        "    neg_test.append(vader.polarity_scores(i)['neg'])\n",
        "    compound_test.append(vader.polarity_scores(i)['compound'])\n",
        "\n",
        "testMovieData_new['pos'] = pos_test\n",
        "testMovieData_new['neg'] = neg_test\n",
        "testMovieData_new['compound'] = compound_test"
      ],
      "execution_count": 0,
      "outputs": []
    },
    {
      "cell_type": "code",
      "metadata": {
        "id": "8SsJce9Hy60Y",
        "colab_type": "code",
        "outputId": "684ab87c-8f85-423a-ff98-a4ea6e73b072",
        "colab": {
          "base_uri": "https://localhost:8080/",
          "height": 34
        }
      },
      "source": [
        "## Decision Tree Classifier\n",
        "model_name=['Decision Tree Classifier']\n",
        "models_list= [DT(max_depth = 10, min_samples_leaf = 50)]\n",
        "for i, j in zip(model_name, models_list):\n",
        "    scores = cross_val_score(j, trainMovieData_new , label, cv=10)\n",
        "    print(i+\" --> \"+ \"Accuracy: %0.2f (+/- %0.2f)\" % (scores.mean(), scores.std() * 2))"
      ],
      "execution_count": 0,
      "outputs": [
        {
          "output_type": "stream",
          "text": [
            "Decision Tree Classifier --> Accuracy: 0.29 (+/- 0.09)\n"
          ],
          "name": "stdout"
        }
      ]
    },
    {
      "cell_type": "code",
      "metadata": {
        "id": "dUgHdvcgy67u",
        "colab_type": "code",
        "outputId": "237a19b2-19dd-46b8-86ab-d4532ea68b80",
        "colab": {
          "base_uri": "https://localhost:8080/",
          "height": 674
        }
      },
      "source": [
        "model = DT(max_depth = 10, min_samples_leaf = 50)\n",
        "model.fit(trainMovieData_new, label)\n",
        "train_predictions = model.predict(trainMovieData_new)\n",
        "test_predictions = model.predict(testMovieData_new)\n",
        "print(test_predictions)\n",
        "\n",
        "plot_confusion_matrix(label, train_predictions, classes=[1, 2, 3, 4, 5, 6, 7, 8, 9],title='Confusion matrix')\n",
        "print (classification_report(label, model.predict(trainMovieData_new)))"
      ],
      "execution_count": 0,
      "outputs": [
        {
          "output_type": "stream",
          "text": [
            "[7 5 5 5 8 5 8 8 8 8 3 3 5 8 7 4 5 8 4 3 5 4 2 3 5 5 4 5 4 4 2 5 2 4 4 2 2\n",
            " 3 4 3 5 4 5 2 4 2 2 3 2 4 1 4 1 4 2 4 2 4 4 1 1 2 2 2 1 5 2 2 2 2 2 2 1 2\n",
            " 5 1 2 2 2 1 2 2 2 1 2 1 2 2 2 2 2]\n"
          ],
          "name": "stdout"
        },
        {
          "output_type": "stream",
          "text": [
            "/usr/local/lib/python3.6/dist-packages/sklearn/metrics/_classification.py:1272: UndefinedMetricWarning: Precision and F-score are ill-defined and being set to 0.0 in labels with no predicted samples. Use `zero_division` parameter to control this behavior.\n",
            "  _warn_prf(average, modifier, msg_start, len(result))\n"
          ],
          "name": "stderr"
        },
        {
          "output_type": "stream",
          "text": [
            "              precision    recall  f1-score   support\n",
            "\n",
            "           1       0.45      0.40      0.43       168\n",
            "           2       0.38      0.46      0.41       247\n",
            "           3       0.33      0.32      0.33       245\n",
            "           4       0.32      0.44      0.37       206\n",
            "           5       0.23      0.15      0.18       132\n",
            "           6       0.00      0.00      0.00        80\n",
            "           7       0.20      0.18      0.19        61\n",
            "           8       0.21      0.50      0.29        38\n",
            "           9       0.00      0.00      0.00        19\n",
            "\n",
            "    accuracy                           0.33      1196\n",
            "   macro avg       0.24      0.27      0.24      1196\n",
            "weighted avg       0.31      0.33      0.32      1196\n",
            "\n"
          ],
          "name": "stdout"
        },
        {
          "output_type": "display_data",
          "data": {
            "image/png": "[encoded data removed]",
            "text/plain": [
              "<Figure size 432x288 with 2 Axes>"
            ]
          },
          "metadata": {
            "tags": []
          }
        }
      ]
    },
    {
      "cell_type": "code",
      "metadata": {
        "id": "WmC7bpkV0aP5",
        "colab_type": "code",
        "outputId": "b0c94d04-4983-4509-cc53-bed73ef2309d",
        "colab": {
          "base_uri": "https://localhost:8080/",
          "height": 297
        }
      },
      "source": [
        "#DT\n",
        "train_sizes, train_scores, test_scores = learning_curve(DT(max_depth = 10, min_samples_leaf = 50), \n",
        "                                                        trainMovieData_new, \n",
        "                                                        label,\n",
        "                                                        cv = 10,\n",
        "                                                        scoring='accuracy',\n",
        "                                                        train_sizes=np.linspace(0.01, 1.0, 50))\n",
        "\n",
        "train_mean = np.mean(train_scores, axis=1)\n",
        "train_std = np.std(train_scores, axis=1)\n",
        "\n",
        "test_mean = np.mean(test_scores, axis=1)\n",
        "test_std = np.std(test_scores, axis=1)\n",
        "\n",
        "plt.plot(train_sizes, train_mean, '--', color=\"#111111\",  label=\"Training score\")\n",
        "plt.plot(train_sizes, test_mean, color=\"#111111\", label=\"Cross-validation score\")\n",
        "\n",
        "plt.fill_between(train_sizes, train_mean - train_std, train_mean + train_std, color=\"#DDDDDD\")\n",
        "plt.fill_between(train_sizes, test_mean - test_std, test_mean + test_std, color=\"#DDDDDD\")\n",
        "\n",
        "plt.title(\"Learning Curve for DT\")\n",
        "plt.xlabel(\"Training Set Size\"), plt.ylabel(\"Accuracy Score\"), plt.legend(loc=\"best\")\n",
        "plt.tight_layout()\n",
        "plt.show()"
      ],
      "execution_count": 0,
      "outputs": [
        {
          "output_type": "display_data",
          "data": {
            "image/png": "[encoded data removed]",
            "text/plain": [
              "<Figure size 432x288 with 1 Axes>"
            ]
          },
          "metadata": {
            "tags": []
          }
        }
      ]
    },
    {
      "cell_type": "code",
      "metadata": {
        "id": "pmoaMPTL1jfC",
        "colab_type": "code",
        "colab": {}
      },
      "source": [
        "#Reporting scores:\n",
        "Pred_dataframe = testMovieData[['id', 'name']].copy()\n",
        "Pred_dataframe = Pred_dataframe.assign(Decision_Tree_Pred = test_predictions) \n",
        "\n",
        "with pd.ExcelWriter('/content/gdrive/My Drive/Datasets/Scoring sheet_HV.xlsx') as writer:  \n",
        "    Pred_dataframe.to_excel(writer, sheet_name='Prediction using NB and RF')"
      ],
      "execution_count": 0,
      "outputs": []
    }
  ]
}